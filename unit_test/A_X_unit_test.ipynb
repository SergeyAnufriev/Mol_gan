{
  "nbformat": 4,
  "nbformat_minor": 0,
  "metadata": {
    "colab": {
      "name": "A_X_unit_test.ipynb",
      "provenance": []
    },
    "kernelspec": {
      "name": "python3",
      "display_name": "Python 3"
    }
  },
  "cells": [
    {
      "cell_type": "code",
      "metadata": {
        "id": "UYScBKqW4jYz",
        "outputId": "6f6d2f2f-9cd1-4fc4-d3d4-1d9aaa12e4ce",
        "colab": {
          "base_uri": "https://localhost:8080/"
        }
      },
      "source": [
        "# Install RDKit. Takes 2-3 minutes\n",
        "!wget -c https://repo.continuum.io/miniconda/Miniconda3-py37_4.8.3-Linux-x86_64.sh\n",
        "!chmod +x Miniconda3-py37_4.8.3-Linux-x86_64.sh\n",
        "!time bash ./Miniconda3-py37_4.8.3-Linux-x86_64.sh -b -f -p /usr/local\n",
        "!time conda install -q -y -c conda-forge rdkit\n",
        "\n",
        "import sys\n",
        "sys.path.append('/usr/local/lib/python3.7/site-packages/')"
      ],
      "execution_count": 1,
      "outputs": [
        {
          "output_type": "stream",
          "text": [
            "--2020-11-12 16:31:01--  https://repo.continuum.io/miniconda/Miniconda3-py37_4.8.3-Linux-x86_64.sh\n",
            "Resolving repo.continuum.io (repo.continuum.io)... 104.18.200.79, 104.18.201.79, 2606:4700::6812:c84f, ...\n",
            "Connecting to repo.continuum.io (repo.continuum.io)|104.18.200.79|:443... connected.\n",
            "HTTP request sent, awaiting response... 301 Moved Permanently\n",
            "Location: https://repo.anaconda.com/miniconda/Miniconda3-py37_4.8.3-Linux-x86_64.sh [following]\n",
            "--2020-11-12 16:31:01--  https://repo.anaconda.com/miniconda/Miniconda3-py37_4.8.3-Linux-x86_64.sh\n",
            "Resolving repo.anaconda.com (repo.anaconda.com)... 104.16.131.3, 104.16.130.3, 2606:4700::6810:8203, ...\n",
            "Connecting to repo.anaconda.com (repo.anaconda.com)|104.16.131.3|:443... connected.\n",
            "HTTP request sent, awaiting response... 200 OK\n",
            "Length: 88867207 (85M) [application/x-sh]\n",
            "Saving to: ‘Miniconda3-py37_4.8.3-Linux-x86_64.sh’\n",
            "\n",
            "Miniconda3-py37_4.8 100%[===================>]  84.75M   115MB/s    in 0.7s    \n",
            "\n",
            "2020-11-12 16:31:02 (115 MB/s) - ‘Miniconda3-py37_4.8.3-Linux-x86_64.sh’ saved [88867207/88867207]\n",
            "\n",
            "PREFIX=/usr/local\n",
            "Unpacking payload ...\n",
            "Collecting package metadata (current_repodata.json): - \b\b\\ \b\b| \b\bdone\n",
            "Solving environment: - \b\b\\ \b\bdone\n",
            "\n",
            "## Package Plan ##\n",
            "\n",
            "  environment location: /usr/local\n",
            "\n",
            "  added / updated specs:\n",
            "    - _libgcc_mutex==0.1=main\n",
            "    - ca-certificates==2020.1.1=0\n",
            "    - certifi==2020.4.5.1=py37_0\n",
            "    - cffi==1.14.0=py37he30daa8_1\n",
            "    - chardet==3.0.4=py37_1003\n",
            "    - conda-package-handling==1.6.1=py37h7b6447c_0\n",
            "    - conda==4.8.3=py37_0\n",
            "    - cryptography==2.9.2=py37h1ba5d50_0\n",
            "    - idna==2.9=py_1\n",
            "    - ld_impl_linux-64==2.33.1=h53a641e_7\n",
            "    - libedit==3.1.20181209=hc058e9b_0\n",
            "    - libffi==3.3=he6710b0_1\n",
            "    - libgcc-ng==9.1.0=hdf63c60_0\n",
            "    - libstdcxx-ng==9.1.0=hdf63c60_0\n",
            "    - ncurses==6.2=he6710b0_1\n",
            "    - openssl==1.1.1g=h7b6447c_0\n",
            "    - pip==20.0.2=py37_3\n",
            "    - pycosat==0.6.3=py37h7b6447c_0\n",
            "    - pycparser==2.20=py_0\n",
            "    - pyopenssl==19.1.0=py37_0\n",
            "    - pysocks==1.7.1=py37_0\n",
            "    - python==3.7.7=hcff3b4d_5\n",
            "    - readline==8.0=h7b6447c_0\n",
            "    - requests==2.23.0=py37_0\n",
            "    - ruamel_yaml==0.15.87=py37h7b6447c_0\n",
            "    - setuptools==46.4.0=py37_0\n",
            "    - six==1.14.0=py37_0\n",
            "    - sqlite==3.31.1=h62c20be_1\n",
            "    - tk==8.6.8=hbc83047_0\n",
            "    - tqdm==4.46.0=py_0\n",
            "    - urllib3==1.25.8=py37_0\n",
            "    - wheel==0.34.2=py37_0\n",
            "    - xz==5.2.5=h7b6447c_0\n",
            "    - yaml==0.1.7=had09818_2\n",
            "    - zlib==1.2.11=h7b6447c_3\n",
            "\n",
            "\n",
            "The following NEW packages will be INSTALLED:\n",
            "\n",
            "  _libgcc_mutex      pkgs/main/linux-64::_libgcc_mutex-0.1-main\n",
            "  ca-certificates    pkgs/main/linux-64::ca-certificates-2020.1.1-0\n",
            "  certifi            pkgs/main/linux-64::certifi-2020.4.5.1-py37_0\n",
            "  cffi               pkgs/main/linux-64::cffi-1.14.0-py37he30daa8_1\n",
            "  chardet            pkgs/main/linux-64::chardet-3.0.4-py37_1003\n",
            "  conda              pkgs/main/linux-64::conda-4.8.3-py37_0\n",
            "  conda-package-han~ pkgs/main/linux-64::conda-package-handling-1.6.1-py37h7b6447c_0\n",
            "  cryptography       pkgs/main/linux-64::cryptography-2.9.2-py37h1ba5d50_0\n",
            "  idna               pkgs/main/noarch::idna-2.9-py_1\n",
            "  ld_impl_linux-64   pkgs/main/linux-64::ld_impl_linux-64-2.33.1-h53a641e_7\n",
            "  libedit            pkgs/main/linux-64::libedit-3.1.20181209-hc058e9b_0\n",
            "  libffi             pkgs/main/linux-64::libffi-3.3-he6710b0_1\n",
            "  libgcc-ng          pkgs/main/linux-64::libgcc-ng-9.1.0-hdf63c60_0\n",
            "  libstdcxx-ng       pkgs/main/linux-64::libstdcxx-ng-9.1.0-hdf63c60_0\n",
            "  ncurses            pkgs/main/linux-64::ncurses-6.2-he6710b0_1\n",
            "  openssl            pkgs/main/linux-64::openssl-1.1.1g-h7b6447c_0\n",
            "  pip                pkgs/main/linux-64::pip-20.0.2-py37_3\n",
            "  pycosat            pkgs/main/linux-64::pycosat-0.6.3-py37h7b6447c_0\n",
            "  pycparser          pkgs/main/noarch::pycparser-2.20-py_0\n",
            "  pyopenssl          pkgs/main/linux-64::pyopenssl-19.1.0-py37_0\n",
            "  pysocks            pkgs/main/linux-64::pysocks-1.7.1-py37_0\n",
            "  python             pkgs/main/linux-64::python-3.7.7-hcff3b4d_5\n",
            "  readline           pkgs/main/linux-64::readline-8.0-h7b6447c_0\n",
            "  requests           pkgs/main/linux-64::requests-2.23.0-py37_0\n",
            "  ruamel_yaml        pkgs/main/linux-64::ruamel_yaml-0.15.87-py37h7b6447c_0\n",
            "  setuptools         pkgs/main/linux-64::setuptools-46.4.0-py37_0\n",
            "  six                pkgs/main/linux-64::six-1.14.0-py37_0\n",
            "  sqlite             pkgs/main/linux-64::sqlite-3.31.1-h62c20be_1\n",
            "  tk                 pkgs/main/linux-64::tk-8.6.8-hbc83047_0\n",
            "  tqdm               pkgs/main/noarch::tqdm-4.46.0-py_0\n",
            "  urllib3            pkgs/main/linux-64::urllib3-1.25.8-py37_0\n",
            "  wheel              pkgs/main/linux-64::wheel-0.34.2-py37_0\n",
            "  xz                 pkgs/main/linux-64::xz-5.2.5-h7b6447c_0\n",
            "  yaml               pkgs/main/linux-64::yaml-0.1.7-had09818_2\n",
            "  zlib               pkgs/main/linux-64::zlib-1.2.11-h7b6447c_3\n",
            "\n",
            "\n",
            "Preparing transaction: / \b\b- \b\b\\ \b\b| \b\bdone\n",
            "Executing transaction: - \b\b\\ \b\b| \b\b/ \b\b- \b\b\\ \b\b| \b\b/ \b\b- \b\b\\ \b\b| \b\b/ \b\b- \b\bdone\n",
            "installation finished.\n",
            "WARNING:\n",
            "    You currently have a PYTHONPATH environment variable set. This may cause\n",
            "    unexpected behavior when running the Python interpreter in Miniconda3.\n",
            "    For best results, please verify that your PYTHONPATH only points to\n",
            "    directories of packages that are compatible with the Python interpreter\n",
            "    in Miniconda3: /usr/local\n",
            "\n",
            "real\t0m27.863s\n",
            "user\t0m15.868s\n",
            "sys\t0m4.827s\n",
            "Collecting package metadata (current_repodata.json): ...working... done\n",
            "Solving environment: ...working... done\n",
            "\n",
            "## Package Plan ##\n",
            "\n",
            "  environment location: /usr/local\n",
            "\n",
            "  added / updated specs:\n",
            "    - rdkit\n",
            "\n",
            "\n",
            "The following packages will be downloaded:\n",
            "\n",
            "    package                    |            build\n",
            "    ---------------------------|-----------------\n",
            "    boost-1.74.0               |   py37h48f8a5e_1         317 KB  conda-forge\n",
            "    boost-cpp-1.74.0           |       h9359b55_0        16.4 MB  conda-forge\n",
            "    bzip2-1.0.8                |       h516909a_3         398 KB  conda-forge\n",
            "    ca-certificates-2020.11.8  |       ha878542_0         145 KB  conda-forge\n",
            "    cairo-1.16.0               |    h3fc0475_1005         1.5 MB  conda-forge\n",
            "    certifi-2020.11.8          |   py37h89c1867_0         150 KB  conda-forge\n",
            "    conda-4.9.1                |   py37h89c1867_0         3.0 MB  conda-forge\n",
            "    fontconfig-2.13.1          |    h7e3eb15_1002         324 KB  conda-forge\n",
            "    freetype-2.10.4            |       h7ca028e_0         912 KB  conda-forge\n",
            "    glib-2.66.1                |       h92f7085_0         2.9 MB\n",
            "    icu-67.1                   |       he1b5a44_0        12.9 MB  conda-forge\n",
            "    jpeg-9d                    |       h36c2ea0_0         264 KB  conda-forge\n",
            "    lcms2-2.11                 |       hcbb858e_1         434 KB  conda-forge\n",
            "    libblas-3.9.0              |       2_openblas          11 KB  conda-forge\n",
            "    libcblas-3.9.0             |       2_openblas          11 KB  conda-forge\n",
            "    libgfortran-ng-7.5.0       |      hae1eefd_17          22 KB  conda-forge\n",
            "    libgfortran4-7.5.0         |      hae1eefd_17         1.3 MB  conda-forge\n",
            "    libiconv-1.16              |       h516909a_0         1.4 MB  conda-forge\n",
            "    liblapack-3.9.0            |       2_openblas          11 KB  conda-forge\n",
            "    libopenblas-0.3.12         |pthreads_hb3c22a3_1         8.2 MB  conda-forge\n",
            "    libpng-1.6.37              |       h21135ba_2         306 KB  conda-forge\n",
            "    libtiff-4.1.0              |       h4f3a223_6         618 KB  conda-forge\n",
            "    libuuid-2.32.1             |    h14c3975_1000          26 KB  conda-forge\n",
            "    libwebp-base-1.1.0         |       h36c2ea0_3         864 KB  conda-forge\n",
            "    libxcb-1.13                |    h14c3975_1002         396 KB  conda-forge\n",
            "    libxml2-2.9.10             |       h68273f3_2         1.3 MB  conda-forge\n",
            "    lz4-c-1.9.2                |       he1b5a44_3         203 KB  conda-forge\n",
            "    numpy-1.19.4               |   py37h7e9df27_1         5.2 MB  conda-forge\n",
            "    olefile-0.46               |     pyh9f0ad1d_1          32 KB  conda-forge\n",
            "    openssl-1.1.1h             |       h516909a_0         2.1 MB  conda-forge\n",
            "    pandas-1.1.4               |   py37h10a2094_0        10.5 MB  conda-forge\n",
            "    pcre-8.44                  |       he1b5a44_0         261 KB  conda-forge\n",
            "    pillow-8.0.1               |   py37he98fc37_0         619 KB\n",
            "    pixman-0.38.0              |    h516909a_1003         594 KB  conda-forge\n",
            "    pthread-stubs-0.4          |    h14c3975_1001           5 KB  conda-forge\n",
            "    pycairo-1.20.0             |   py37h01af8b0_1          77 KB  conda-forge\n",
            "    python-dateutil-2.8.1      |             py_0         220 KB  conda-forge\n",
            "    python_abi-3.7             |          1_cp37m           4 KB  conda-forge\n",
            "    pytz-2020.4                |     pyhd8ed1ab_0         229 KB  conda-forge\n",
            "    rdkit-2020.09.1            |   py37h0c252aa_0        25.8 MB  conda-forge\n",
            "    xorg-kbproto-1.0.7         |    h14c3975_1002          26 KB  conda-forge\n",
            "    xorg-libice-1.0.10         |       h516909a_0          57 KB  conda-forge\n",
            "    xorg-libsm-1.2.3           |    h84519dc_1000          25 KB  conda-forge\n",
            "    xorg-libx11-1.6.12         |       h516909a_0         917 KB  conda-forge\n",
            "    xorg-libxau-1.0.9          |       h14c3975_0          13 KB  conda-forge\n",
            "    xorg-libxdmcp-1.1.3        |       h516909a_0          18 KB  conda-forge\n",
            "    xorg-libxext-1.3.4         |       h516909a_0          51 KB  conda-forge\n",
            "    xorg-libxrender-0.9.10     |    h516909a_1002          31 KB  conda-forge\n",
            "    xorg-renderproto-0.11.1    |    h14c3975_1002           8 KB  conda-forge\n",
            "    xorg-xextproto-7.3.0       |    h14c3975_1002          27 KB  conda-forge\n",
            "    xorg-xproto-7.0.31         |    h14c3975_1007          72 KB  conda-forge\n",
            "    zstd-1.4.5                 |       h6597ccf_2         712 KB  conda-forge\n",
            "    ------------------------------------------------------------\n",
            "                                           Total:       101.5 MB\n",
            "\n",
            "The following NEW packages will be INSTALLED:\n",
            "\n",
            "  boost              conda-forge/linux-64::boost-1.74.0-py37h48f8a5e_1\n",
            "  boost-cpp          conda-forge/linux-64::boost-cpp-1.74.0-h9359b55_0\n",
            "  bzip2              conda-forge/linux-64::bzip2-1.0.8-h516909a_3\n",
            "  cairo              conda-forge/linux-64::cairo-1.16.0-h3fc0475_1005\n",
            "  fontconfig         conda-forge/linux-64::fontconfig-2.13.1-h7e3eb15_1002\n",
            "  freetype           conda-forge/linux-64::freetype-2.10.4-h7ca028e_0\n",
            "  glib               pkgs/main/linux-64::glib-2.66.1-h92f7085_0\n",
            "  icu                conda-forge/linux-64::icu-67.1-he1b5a44_0\n",
            "  jpeg               conda-forge/linux-64::jpeg-9d-h36c2ea0_0\n",
            "  lcms2              conda-forge/linux-64::lcms2-2.11-hcbb858e_1\n",
            "  libblas            conda-forge/linux-64::libblas-3.9.0-2_openblas\n",
            "  libcblas           conda-forge/linux-64::libcblas-3.9.0-2_openblas\n",
            "  libgfortran-ng     conda-forge/linux-64::libgfortran-ng-7.5.0-hae1eefd_17\n",
            "  libgfortran4       conda-forge/linux-64::libgfortran4-7.5.0-hae1eefd_17\n",
            "  libiconv           conda-forge/linux-64::libiconv-1.16-h516909a_0\n",
            "  liblapack          conda-forge/linux-64::liblapack-3.9.0-2_openblas\n",
            "  libopenblas        conda-forge/linux-64::libopenblas-0.3.12-pthreads_hb3c22a3_1\n",
            "  libpng             conda-forge/linux-64::libpng-1.6.37-h21135ba_2\n",
            "  libtiff            conda-forge/linux-64::libtiff-4.1.0-h4f3a223_6\n",
            "  libuuid            conda-forge/linux-64::libuuid-2.32.1-h14c3975_1000\n",
            "  libwebp-base       conda-forge/linux-64::libwebp-base-1.1.0-h36c2ea0_3\n",
            "  libxcb             conda-forge/linux-64::libxcb-1.13-h14c3975_1002\n",
            "  libxml2            conda-forge/linux-64::libxml2-2.9.10-h68273f3_2\n",
            "  lz4-c              conda-forge/linux-64::lz4-c-1.9.2-he1b5a44_3\n",
            "  numpy              conda-forge/linux-64::numpy-1.19.4-py37h7e9df27_1\n",
            "  olefile            conda-forge/noarch::olefile-0.46-pyh9f0ad1d_1\n",
            "  pandas             conda-forge/linux-64::pandas-1.1.4-py37h10a2094_0\n",
            "  pcre               conda-forge/linux-64::pcre-8.44-he1b5a44_0\n",
            "  pillow             pkgs/main/linux-64::pillow-8.0.1-py37he98fc37_0\n",
            "  pixman             conda-forge/linux-64::pixman-0.38.0-h516909a_1003\n",
            "  pthread-stubs      conda-forge/linux-64::pthread-stubs-0.4-h14c3975_1001\n",
            "  pycairo            conda-forge/linux-64::pycairo-1.20.0-py37h01af8b0_1\n",
            "  python-dateutil    conda-forge/noarch::python-dateutil-2.8.1-py_0\n",
            "  python_abi         conda-forge/linux-64::python_abi-3.7-1_cp37m\n",
            "  pytz               conda-forge/noarch::pytz-2020.4-pyhd8ed1ab_0\n",
            "  rdkit              conda-forge/linux-64::rdkit-2020.09.1-py37h0c252aa_0\n",
            "  xorg-kbproto       conda-forge/linux-64::xorg-kbproto-1.0.7-h14c3975_1002\n",
            "  xorg-libice        conda-forge/linux-64::xorg-libice-1.0.10-h516909a_0\n",
            "  xorg-libsm         conda-forge/linux-64::xorg-libsm-1.2.3-h84519dc_1000\n",
            "  xorg-libx11        conda-forge/linux-64::xorg-libx11-1.6.12-h516909a_0\n",
            "  xorg-libxau        conda-forge/linux-64::xorg-libxau-1.0.9-h14c3975_0\n",
            "  xorg-libxdmcp      conda-forge/linux-64::xorg-libxdmcp-1.1.3-h516909a_0\n",
            "  xorg-libxext       conda-forge/linux-64::xorg-libxext-1.3.4-h516909a_0\n",
            "  xorg-libxrender    conda-forge/linux-64::xorg-libxrender-0.9.10-h516909a_1002\n",
            "  xorg-renderproto   conda-forge/linux-64::xorg-renderproto-0.11.1-h14c3975_1002\n",
            "  xorg-xextproto     conda-forge/linux-64::xorg-xextproto-7.3.0-h14c3975_1002\n",
            "  xorg-xproto        conda-forge/linux-64::xorg-xproto-7.0.31-h14c3975_1007\n",
            "  zstd               conda-forge/linux-64::zstd-1.4.5-h6597ccf_2\n",
            "\n",
            "The following packages will be UPDATED:\n",
            "\n",
            "  ca-certificates     pkgs/main::ca-certificates-2020.1.1-0 --> conda-forge::ca-certificates-2020.11.8-ha878542_0\n",
            "  certifi              pkgs/main::certifi-2020.4.5.1-py37_0 --> conda-forge::certifi-2020.11.8-py37h89c1867_0\n",
            "  conda                       pkgs/main::conda-4.8.3-py37_0 --> conda-forge::conda-4.9.1-py37h89c1867_0\n",
            "  openssl              pkgs/main::openssl-1.1.1g-h7b6447c_0 --> conda-forge::openssl-1.1.1h-h516909a_0\n",
            "\n",
            "\n",
            "Preparing transaction: ...working... done\n",
            "Verifying transaction: ...working... done\n",
            "Executing transaction: ...working... done\n",
            "\n",
            "real\t0m47.442s\n",
            "user\t0m39.876s\n",
            "sys\t0m4.792s\n"
          ],
          "name": "stdout"
        }
      ]
    },
    {
      "cell_type": "code",
      "metadata": {
        "id": "W4CZSqAQ5JLW"
      },
      "source": [
        "import torch\n",
        "from rdkit import Chem\n",
        "import numpy as np\n",
        "from rdkit.Chem.Draw import IPythonConsole\n",
        "from torch.nn.functional import one_hot\n",
        "from rdkit.Chem import RWMol\n",
        "\n",
        "from pydrive.auth import GoogleAuth\n",
        "from pydrive.drive import GoogleDrive\n",
        "from google.colab import auth\n",
        "from oauth2client.client import GoogleCredentials"
      ],
      "execution_count": 2,
      "outputs": []
    },
    {
      "cell_type": "code",
      "metadata": {
        "id": "yYpCkQPPtKTS"
      },
      "source": [
        "auth.authenticate_user()\n",
        "gauth = GoogleAuth()\n",
        "gauth.credentials = GoogleCredentials.get_application_default()\n",
        "drive = GoogleDrive(gauth)"
      ],
      "execution_count": 3,
      "outputs": []
    },
    {
      "cell_type": "code",
      "metadata": {
        "id": "Y-2F-SlCthOB"
      },
      "source": [
        "downloaded = drive.CreateFile({'id':'1uLhZjDx04xp0o6kOM1aAFl0l89HSweLZ'})   # replace the id with id of file you want to access\n",
        "downloaded.GetContentFile('gdb9_clean.sdf') "
      ],
      "execution_count": 4,
      "outputs": []
    },
    {
      "cell_type": "code",
      "metadata": {
        "id": "NYEq2QtP8Z4J"
      },
      "source": [
        "## Global variables, used to initialise dataset class  \n",
        "molecules = Chem.SDMolSupplier('/content/gdb9_clean.sdf',sanitize=True)\n",
        "\n",
        "atom_set = ['C','O','N','F']\n",
        "N        = 9 \n",
        "atom_to_num  = dict({x:y for x,y in zip(atom_set,range(len(atom_set)))})"
      ],
      "execution_count": 5,
      "outputs": []
    },
    {
      "cell_type": "code",
      "metadata": {
        "id": "kGQ1EgA86pQK"
      },
      "source": [
        "#### Molecule --> A,X\n",
        "\n",
        "def mol_with_atom_index(mol):\n",
        "  atoms = mol.GetNumAtoms()\n",
        "  for idx in range(atoms):\n",
        "    mol.GetAtomWithIdx(idx).SetProp('molAtomMapNumber', str(mol.GetAtomWithIdx(idx).GetIdx()))\n",
        "  return mol\n",
        "\n",
        "\n",
        "def bond_features(bond):\n",
        "  bt = bond.GetBondType()\n",
        "  return (torch.Tensor([bt == Chem.rdchem.BondType.SINGLE,\\\n",
        "                        bt == Chem.rdchem.BondType.DOUBLE,\\\n",
        "                        bt == Chem.rdchem.BondType.TRIPLE,\\\n",
        "                        bt == Chem.rdchem.BondType.AROMATIC]))\n",
        "\n",
        "\n",
        "def array_to_atom(x):\n",
        "  max_atoms = len(atom_set)\n",
        "  idx  = np.dot(x.numpy(),np.array(range(0,max_atoms+1))).astype(int)\n",
        "  if idx == max_atoms:\n",
        "    return None\n",
        "  else:\n",
        "    atom = Chem.rdchem.Atom(atom_set[idx])\n",
        "  return atom.GetAtomicNum()\n",
        "\n",
        "\n",
        "def atom_features(mol):\n",
        "  a_list = []\n",
        "  max_atoms_types = len(atom_set)\n",
        "\n",
        "  for atom in mol.GetAtoms():\n",
        "    a_list.append(atom_to_num[atom.GetSymbol()])     \n",
        "\n",
        "  a_list  = torch.tensor(a_list).type(torch.LongTensor)\n",
        "  N_f_mat = one_hot(a_list,num_classes=max_atoms_types)\n",
        "  n_atoms = N_f_mat.size()[0]\n",
        "  N_f_mat = torch.cat([N_f_mat,torch.zeros((n_atoms,1))],dim=1)\n",
        "  delta   = N - n_atoms\n",
        "\n",
        "  if delta>0:\n",
        "    pad = [[0]*max_atoms_types + [1] for _ in range(delta)]\n",
        "    pad = torch.tensor(pad).type(torch.LongTensor)\n",
        "    N_f_mat = torch.cat([N_f_mat,pad],dim=0)\n",
        "  return N_f_mat\n",
        "\n",
        "  ### A_ij = [1,0,0,0,0] - single   i,j are atoms i and j\n",
        "  ###        [0,1,0,0,0] - double\n",
        "  ###        [0,0,1,0,0] - triple\n",
        "  ###        [0,0,0,1,0] - aromatic\n",
        "  ###        [0,0,0,0,0] - No bond \n",
        "\n",
        "def adj_mat(mol):\n",
        "  adjecency_mat = torch.zeros((N,N,4))\n",
        "  for bond in mol.GetBonds():\n",
        "    start, end = bond.GetBeginAtomIdx(), bond.GetEndAtomIdx()\n",
        "    adjecency_mat[start,end,:] = bond_features(bond)\n",
        "    adjecency_mat[end,start,:] = bond_features(bond)\n",
        "  return torch.cat([adjecency_mat,torch.zeros((N,N,1))],dim=-1)\n",
        "\n",
        "##### A,X to molecule ###############################\n",
        "\n",
        "def array_to_atom(x):\n",
        "  max_atoms = len(atom_set)\n",
        "  idx  = np.dot(x.numpy(),np.array(range(0,max_atoms+1))).astype(int)\n",
        "  if idx == max_atoms:\n",
        "    return 0\n",
        "  else:\n",
        "    atom = Chem.rdchem.Atom(atom_set[idx])\n",
        "    return atom.GetAtomicNum()\n",
        "\n",
        "\n",
        "def array_to_bond(x):\n",
        "  if torch.sum(x).numpy() == 0:\n",
        "    return None\n",
        "  else:\n",
        "    idx = np.dot(x.numpy(),np.array(range(0,5))).astype(int)\n",
        "  return [Chem.rdchem.BondType.SINGLE,Chem.rdchem.BondType.DOUBLE,\\\n",
        "            Chem.rdchem.BondType.TRIPLE,Chem.rdchem.BondType.AROMATIC,None][idx]\n",
        "\n",
        "\n",
        "def A_x_to_mol(A,x):\n",
        "\n",
        "  mol = RWMol()\n",
        "  n_atoms = x.size()[0]\n",
        "  \n",
        "  non_empty_atoms = []\n",
        "  for i in range(n_atoms):\n",
        "    if x[i,:][-1].numpy() != 1:\n",
        "      mol.AddAtom(Chem.Atom(0))\n",
        "      non_empty_atoms.append(i)\n",
        "\n",
        "  for i in non_empty_atoms:\n",
        "    for j in non_empty_atoms:\n",
        "      bond = array_to_bond(A[i,j,:])\n",
        "      if i>j and bond != None:\n",
        "        mol.AddBond(i,j,bond)\n",
        "  for i in non_empty_atoms:\n",
        "    mol.GetAtomWithIdx(i).SetAtomicNum(array_to_atom(x[i,:]))\n",
        "  return mol"
      ],
      "execution_count": 6,
      "outputs": []
    },
    {
      "cell_type": "markdown",
      "metadata": {
        "id": "GiEUOCjGThp-"
      },
      "source": [
        "### Encoding Tests"
      ]
    },
    {
      "cell_type": "code",
      "metadata": {
        "id": "vklPLcUJSodV"
      },
      "source": [
        "def result(mol):\n",
        "  print('respective column',[(atom,atom_to_num[atom]) for atom in ['C','N','O','F']])\n",
        "  print('Node Feature Matrix')\n",
        "  print(atom_features(mol))"
      ],
      "execution_count": 7,
      "outputs": []
    },
    {
      "cell_type": "code",
      "metadata": {
        "id": "vr-cZUtV7FGO"
      },
      "source": [
        "mol1 = Chem.MolFromSmiles('N\\C(F)=C(\\O)C#C')\n",
        "mol2 = Chem.MolFromSmiles('C1=CC=CC=C1')\n",
        "mol3 = Chem.MolFromSmiles('CC1CCC2CCCC12')"
      ],
      "execution_count": 8,
      "outputs": []
    },
    {
      "cell_type": "markdown",
      "metadata": {
        "id": "jTrgbVxtS2W9"
      },
      "source": [
        "###Node Feature matrix computation "
      ]
    },
    {
      "cell_type": "code",
      "metadata": {
        "id": "x_-xsqqbCkUh",
        "outputId": "5a20120c-3009-4649-eb60-3504d7c8ca60",
        "colab": {
          "base_uri": "https://localhost:8080/",
          "height": 167
        }
      },
      "source": [
        "mol_with_atom_index(mol1)"
      ],
      "execution_count": 9,
      "outputs": [
        {
          "output_type": "execute_result",
          "data": {
            "image/png": "[encoded data removed]",
            "text/plain": [
              "<rdkit.Chem.rdchem.Mol at 0x7f6db805f760>"
            ]
          },
          "metadata": {
            "tags": []
          },
          "execution_count": 9
        }
      ]
    },
    {
      "cell_type": "code",
      "metadata": {
        "id": "_m4xJq8xCoVn",
        "outputId": "582c5bec-462f-4ccc-891d-21bbc1badd21",
        "colab": {
          "base_uri": "https://localhost:8080/"
        }
      },
      "source": [
        "result(mol1)"
      ],
      "execution_count": 10,
      "outputs": [
        {
          "output_type": "stream",
          "text": [
            "respective column [('C', 0), ('N', 2), ('O', 1), ('F', 3)]\n",
            "Node Feature Matrix\n",
            "tensor([[0., 0., 1., 0., 0.],\n",
            "        [1., 0., 0., 0., 0.],\n",
            "        [0., 0., 0., 1., 0.],\n",
            "        [1., 0., 0., 0., 0.],\n",
            "        [0., 1., 0., 0., 0.],\n",
            "        [1., 0., 0., 0., 0.],\n",
            "        [1., 0., 0., 0., 0.],\n",
            "        [0., 0., 0., 0., 1.],\n",
            "        [0., 0., 0., 0., 1.]])\n"
          ],
          "name": "stdout"
        }
      ]
    },
    {
      "cell_type": "code",
      "metadata": {
        "id": "IsWuBFLdH2fN",
        "outputId": "821e7d06-18b9-459a-e719-5583be0408d1",
        "colab": {
          "base_uri": "https://localhost:8080/",
          "height": 167
        }
      },
      "source": [
        "mol_with_atom_index(mol2)"
      ],
      "execution_count": 11,
      "outputs": [
        {
          "output_type": "execute_result",
          "data": {
            "image/png": "[encoded data removed]",
            "text/plain": [
              "<rdkit.Chem.rdchem.Mol at 0x7f6db805f120>"
            ]
          },
          "metadata": {
            "tags": []
          },
          "execution_count": 11
        }
      ]
    },
    {
      "cell_type": "code",
      "metadata": {
        "id": "iA1gADyQSw60",
        "outputId": "8a927e29-58ce-4f15-9366-2fb2e68140cb",
        "colab": {
          "base_uri": "https://localhost:8080/"
        }
      },
      "source": [
        "result(mol2)"
      ],
      "execution_count": 12,
      "outputs": [
        {
          "output_type": "stream",
          "text": [
            "respective column [('C', 0), ('N', 2), ('O', 1), ('F', 3)]\n",
            "Node Feature Matrix\n",
            "tensor([[1., 0., 0., 0., 0.],\n",
            "        [1., 0., 0., 0., 0.],\n",
            "        [1., 0., 0., 0., 0.],\n",
            "        [1., 0., 0., 0., 0.],\n",
            "        [1., 0., 0., 0., 0.],\n",
            "        [1., 0., 0., 0., 0.],\n",
            "        [0., 0., 0., 0., 1.],\n",
            "        [0., 0., 0., 0., 1.],\n",
            "        [0., 0., 0., 0., 1.]])\n"
          ],
          "name": "stdout"
        }
      ]
    },
    {
      "cell_type": "code",
      "metadata": {
        "id": "cX8x6K4TUl7N",
        "outputId": "09fa3585-f32c-496d-eaaf-ad3ee4558954",
        "colab": {
          "base_uri": "https://localhost:8080/",
          "height": 167
        }
      },
      "source": [
        "mol_with_atom_index(mol3)"
      ],
      "execution_count": 13,
      "outputs": [
        {
          "output_type": "execute_result",
          "data": {
            "image/png": "[encoded data removed]",
            "text/plain": [
              "<rdkit.Chem.rdchem.Mol at 0x7f6db805f580>"
            ]
          },
          "metadata": {
            "tags": []
          },
          "execution_count": 13
        }
      ]
    },
    {
      "cell_type": "code",
      "metadata": {
        "id": "J-okegNMUpVs",
        "outputId": "a455fd86-3613-45ce-e055-9413b698437c",
        "colab": {
          "base_uri": "https://localhost:8080/"
        }
      },
      "source": [
        "result(mol3)"
      ],
      "execution_count": 14,
      "outputs": [
        {
          "output_type": "stream",
          "text": [
            "respective column [('C', 0), ('N', 2), ('O', 1), ('F', 3)]\n",
            "Node Feature Matrix\n",
            "tensor([[1., 0., 0., 0., 0.],\n",
            "        [1., 0., 0., 0., 0.],\n",
            "        [1., 0., 0., 0., 0.],\n",
            "        [1., 0., 0., 0., 0.],\n",
            "        [1., 0., 0., 0., 0.],\n",
            "        [1., 0., 0., 0., 0.],\n",
            "        [1., 0., 0., 0., 0.],\n",
            "        [1., 0., 0., 0., 0.],\n",
            "        [1., 0., 0., 0., 0.]])\n"
          ],
          "name": "stdout"
        }
      ]
    },
    {
      "cell_type": "markdown",
      "metadata": {
        "id": "M_LZ0JZaTDsl"
      },
      "source": [
        "### Adjacency tensor computation "
      ]
    },
    {
      "cell_type": "code",
      "metadata": {
        "id": "ntbE6sePWIeA"
      },
      "source": [
        "# Returns 0 if tensor is symetric \n",
        "def tensor_symmetry_check(A):\n",
        "  return torch.sum(A-torch.transpose(A,0,1)).numpy() ## SYM MAT A = A^T --> A - A^T = 0\n",
        "\n",
        "# Check for number of atoms <=9 that adjecency tensor is symmetric for all molecules\n",
        "# in dataset "
      ],
      "execution_count": 15,
      "outputs": []
    },
    {
      "cell_type": "code",
      "metadata": {
        "id": "YvHgA0EYe4wt",
        "outputId": "41326034-0c33-408a-bcb6-980e295f8d5d",
        "colab": {
          "base_uri": "https://localhost:8080/"
        }
      },
      "source": [
        "counter = 0\n",
        "for mol in molecules:\n",
        "  if mol is None:\n",
        "    continue\n",
        "  try:\n",
        "    Chem.SanitizeMol(mol) ### valid chem compound\n",
        "    if tensor_symmetry_check(adj_mat(mol))!=0:\n",
        "      print('Not symmetric tensor')\n",
        "  except:\n",
        "    continue"
      ],
      "execution_count": 16,
      "outputs": [
        {
          "output_type": "stream",
          "text": [
            "RDKit WARNING: [16:33:35] Warning: molecule is tagged as 3D, but all Z coords are zero\n"
          ],
          "name": "stderr"
        }
      ]
    },
    {
      "cell_type": "code",
      "metadata": {
        "id": "du98eweNuFwG",
        "outputId": "cd55676f-e6e0-4b23-bec7-3e5fb2915460",
        "colab": {
          "base_uri": "https://localhost:8080/",
          "height": 167
        }
      },
      "source": [
        "mol_with_atom_index(mol1)"
      ],
      "execution_count": 17,
      "outputs": [
        {
          "output_type": "execute_result",
          "data": {
            "image/png": "[encoded data removed]",
            "text/plain": [
              "<rdkit.Chem.rdchem.Mol at 0x7f6db805f760>"
            ]
          },
          "metadata": {
            "tags": []
          },
          "execution_count": 17
        }
      ]
    },
    {
      "cell_type": "code",
      "metadata": {
        "id": "pubhzIKFuJEy"
      },
      "source": [
        "A = adj_mat(mol1)"
      ],
      "execution_count": 18,
      "outputs": []
    },
    {
      "cell_type": "code",
      "metadata": {
        "id": "_glV-jMeuNT6",
        "outputId": "aae5d9e1-8f54-4a71-cb46-b7be118beee2",
        "colab": {
          "base_uri": "https://localhost:8080/"
        }
      },
      "source": [
        "print('single bond 0-1',A[0,1,:])\n",
        "print('double bond 1-3',A[1,3,:])\n",
        "print('triple bond 5-6',A[5,6,:])\n",
        "print('No bond 2-4',A[2,4,:])"
      ],
      "execution_count": 19,
      "outputs": [
        {
          "output_type": "stream",
          "text": [
            "single bond 0-1 tensor([1., 0., 0., 0., 0.])\n",
            "double bond 1-3 tensor([0., 1., 0., 0., 0.])\n",
            "triple bond 5-6 tensor([0., 0., 1., 0., 0.])\n",
            "No bond 2-4 tensor([0., 0., 0., 0., 0.])\n"
          ],
          "name": "stdout"
        }
      ]
    },
    {
      "cell_type": "code",
      "metadata": {
        "id": "denCeRz1vCsK",
        "outputId": "eab4ecb1-1975-4d0d-db3a-4f28a347493e",
        "colab": {
          "base_uri": "https://localhost:8080/",
          "height": 167
        }
      },
      "source": [
        "mol_with_atom_index(mol2)"
      ],
      "execution_count": 20,
      "outputs": [
        {
          "output_type": "execute_result",
          "data": {
            "image/png": "[encoded data removed]",
            "text/plain": [
              "<rdkit.Chem.rdchem.Mol at 0x7f6db805f120>"
            ]
          },
          "metadata": {
            "tags": []
          },
          "execution_count": 20
        }
      ]
    },
    {
      "cell_type": "code",
      "metadata": {
        "id": "_9bWruujvEqy",
        "outputId": "6539d134-8976-49db-bee2-7385c1b5927f",
        "colab": {
          "base_uri": "https://localhost:8080/"
        }
      },
      "source": [
        "A2 = adj_mat(mol2)\n",
        "print('aromatic bond 2-3',A2[2,3,:])"
      ],
      "execution_count": 21,
      "outputs": [
        {
          "output_type": "stream",
          "text": [
            "aromatic bond 2-3 tensor([0., 0., 0., 1., 0.])\n"
          ],
          "name": "stdout"
        }
      ]
    },
    {
      "cell_type": "markdown",
      "metadata": {
        "id": "ehZ5Bnn1SS3j"
      },
      "source": [
        "### Decoding test   \n",
        "### molecule --> A,X --> molecule "
      ]
    },
    {
      "cell_type": "code",
      "metadata": {
        "id": "0SFkrt7ivc2_"
      },
      "source": [
        "def array_to_atom(x):\n",
        "  max_atoms = len(atom_set)\n",
        "  idx  = np.dot(x.numpy(),np.array(range(0,max_atoms+1))).astype(int)\n",
        "  if idx == max_atoms:\n",
        "    return 0\n",
        "  else:\n",
        "    atom = Chem.rdchem.Atom(atom_set[idx])\n",
        "    return atom.GetAtomicNum()\n",
        "\n",
        "\n",
        "def array_to_bond(x):\n",
        "  if torch.sum(x).numpy() == 0:\n",
        "    return None\n",
        "  else:\n",
        "    idx = np.dot(x.numpy(),np.array(range(0,5))).astype(int)\n",
        "  return [Chem.rdchem.BondType.SINGLE,Chem.rdchem.BondType.DOUBLE,\\\n",
        "            Chem.rdchem.BondType.TRIPLE,Chem.rdchem.BondType.AROMATIC,None][idx]\n",
        "\n",
        "\n",
        "def A_x_to_mol(A,x):\n",
        "\n",
        "  mol = RWMol()\n",
        "  n_atoms = x.size()[0]\n",
        "  \n",
        "  non_empty_atoms = []\n",
        "  for i in range(n_atoms):\n",
        "    if x[i,:][-1].numpy() != 1:\n",
        "      mol.AddAtom(Chem.Atom(0))\n",
        "      non_empty_atoms.append(i)\n",
        "\n",
        "  for i in non_empty_atoms:\n",
        "    for j in non_empty_atoms:\n",
        "      bond = array_to_bond(A[i,j,:])\n",
        "      if i>j and bond != None:\n",
        "        mol.AddBond(i,j,bond)\n",
        "  for i in non_empty_atoms:\n",
        "    mol.GetAtomWithIdx(i).SetAtomicNum(array_to_atom(x[i,:]))\n",
        "  return mol"
      ],
      "execution_count": 22,
      "outputs": []
    },
    {
      "cell_type": "code",
      "metadata": {
        "id": "e54ANEIWRrzS"
      },
      "source": [
        "def inverse(mol):\n",
        "  A,X = adj_mat(mol), atom_features(mol)\n",
        "  mol_inverse = A_x_to_mol(A,X)\n",
        "  return mol_with_atom_index(mol_inverse)"
      ],
      "execution_count": 23,
      "outputs": []
    },
    {
      "cell_type": "code",
      "metadata": {
        "id": "3wl4vrw6Afjz",
        "outputId": "832e3d73-9f67-49af-d2a1-c8b60007a1f9",
        "colab": {
          "base_uri": "https://localhost:8080/",
          "height": 167
        }
      },
      "source": [
        "mol_with_atom_index(mol1)"
      ],
      "execution_count": 24,
      "outputs": [
        {
          "output_type": "execute_result",
          "data": {
            "image/png": "[encoded data removed]",
            "text/plain": [
              "<rdkit.Chem.rdchem.Mol at 0x7f6db805f760>"
            ]
          },
          "metadata": {
            "tags": []
          },
          "execution_count": 24
        }
      ]
    },
    {
      "cell_type": "code",
      "metadata": {
        "id": "c17hX7MPAidn",
        "outputId": "a62dadfa-6d88-4fe9-bcff-06389f596b7c",
        "colab": {
          "base_uri": "https://localhost:8080/",
          "height": 167
        }
      },
      "source": [
        "inverse(mol1)"
      ],
      "execution_count": 25,
      "outputs": [
        {
          "output_type": "execute_result",
          "data": {
            "image/png": "[encoded data removed]",
            "text/plain": [
              "<rdkit.Chem.rdchem.RWMol at 0x7f6e0a39bdf8>"
            ]
          },
          "metadata": {
            "tags": []
          },
          "execution_count": 25
        }
      ]
    },
    {
      "cell_type": "code",
      "metadata": {
        "id": "U5UVixiQSD28",
        "outputId": "a4ddc8e1-e98e-4ddf-b53b-70c875401b87",
        "colab": {
          "base_uri": "https://localhost:8080/",
          "height": 167
        }
      },
      "source": [
        "mol_with_atom_index(mol2)"
      ],
      "execution_count": 26,
      "outputs": [
        {
          "output_type": "execute_result",
          "data": {
            "image/png": "[encoded data removed]",
            "text/plain": [
              "<rdkit.Chem.rdchem.Mol at 0x7f6db805f120>"
            ]
          },
          "metadata": {
            "tags": []
          },
          "execution_count": 26
        }
      ]
    },
    {
      "cell_type": "code",
      "metadata": {
        "id": "zSxxf0dbSHF0",
        "outputId": "1444c5a4-97a6-41d8-9d7f-c99adfe6005e",
        "colab": {
          "base_uri": "https://localhost:8080/",
          "height": 167
        }
      },
      "source": [
        "inverse(mol2)"
      ],
      "execution_count": 27,
      "outputs": [
        {
          "output_type": "execute_result",
          "data": {
            "image/png": "[encoded data removed]",
            "text/plain": [
              "<rdkit.Chem.rdchem.RWMol at 0x7f6db806a688>"
            ]
          },
          "metadata": {
            "tags": []
          },
          "execution_count": 27
        }
      ]
    }
  ]
}