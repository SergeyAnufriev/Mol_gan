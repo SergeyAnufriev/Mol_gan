{
 "cells": [
  {
   "cell_type": "code",
   "execution_count": 1,
   "id": "b2ba462f",
   "metadata": {},
   "outputs": [],
   "source": [
    "from data_loader import Mol_dataset\n",
    "from torch.utils.data import DataLoader\n",
    "import torch\n",
    "from rdkit import Chem\n",
    "from valid import A_x_to_mol\n",
    "from rdkit.Chem.Draw import IPythonConsole\n",
    "from rdkit.Chem import Draw\n",
    "IPythonConsole.ipython_useSVG=True "
   ]
  },
  {
   "cell_type": "code",
   "execution_count": 2,
   "id": "501e4bb8",
   "metadata": {},
   "outputs": [
    {
     "name": "stderr",
     "output_type": "stream",
     "text": [
      "c:\\users\\zcemg08\\miniconda3\\envs\\env7\\lib\\site-packages\\torch\\cuda\\__init__.py:52: UserWarning: CUDA initialization: Found no NVIDIA driver on your system. Please check that you have an NVIDIA GPU and installed a driver from http://www.nvidia.com/Download/index.aspx (Triggered internally at  ..\\c10\\cuda\\CUDAFunctions.cpp:100.)\n",
      "  return torch._C._cuda_getDeviceCount() > 0\n"
     ]
    }
   ],
   "source": [
    "device_type = 'CPU'\n",
    "\n",
    "'''GPU/CPU calculations depending on if GPU is available'''\n",
    "device = torch.device('cuda' if torch.cuda.is_available() else 'cpu')\n",
    "\n",
    "if device_type == 'GPU':\n",
    "    dir_config  = r'/home/zcemg08/Scratch/Mol_gan2/config_files/GAN_param_grid.yaml'\n",
    "    dir_dataset = r'/home/zcemg08/Scratch/data/gdb9_clean.sdf'\n",
    "else:\n",
    "    dir_config  = r'C:\\Users\\zcemg08\\Documents\\GitHub\\Mol_gan\\config_files\\GAN_param_grid.yam'\n",
    "    dir_dataset = r'C:\\Users\\zcemg08\\Documents\\GitHub\\Mol_gan\\data\\gdb9_clean.sdf'"
   ]
  },
  {
   "cell_type": "code",
   "execution_count": 3,
   "id": "008dc7fb",
   "metadata": {},
   "outputs": [],
   "source": [
    "dataset = Mol_dataset(dir_dataset,device)\n",
    "suppl   = Chem.SDMolSupplier(dir_dataset)"
   ]
  },
  {
   "cell_type": "code",
   "execution_count": 4,
   "id": "86ef318c",
   "metadata": {},
   "outputs": [
    {
     "name": "stdout",
     "output_type": "stream",
     "text": [
      "total number of molecules = 88641\n"
     ]
    }
   ],
   "source": [
    "print('total number of molecules = {}'.format(len(suppl)))"
   ]
  },
  {
   "cell_type": "code",
   "execution_count": 5,
   "id": "90acf71b",
   "metadata": {},
   "outputs": [],
   "source": [
    "damaged_mol  = []\n",
    "original_mol = []\n",
    "for mol in suppl:\n",
    "    A = dataset.adj_mat(mol)\n",
    "    X = dataset.atom_features(mol)\n",
    "    try:\n",
    "        mol2 = A_x_to_mol(A,X,device)\n",
    "    except: \n",
    "        damaged_mol.append(mol2)\n",
    "        original_mol.append(mol) "
   ]
  },
  {
   "cell_type": "code",
   "execution_count": 6,
   "id": "09c07374",
   "metadata": {},
   "outputs": [
    {
     "name": "stdout",
     "output_type": "stream",
     "text": [
      "total time =500.01725363731384\n"
     ]
    }
   ],
   "source": [
    "import time\n",
    "t0 = time.time()\n",
    "non_equal = 0\n",
    "fail_convert = 0\n",
    "for mol in suppl:\n",
    "    A = dataset.adj_mat(mol)\n",
    "    X = dataset.atom_features(mol)\n",
    "    try:\n",
    "        mol2 = A_x_to_mol(A,X,device)\n",
    "        smiles2 = Chem.MolToSmiles(mol2)\n",
    "        smiles1 = Chem.MolToSmiles(mol)\n",
    "        if smiles2!=smiles1:\n",
    "            non_equal+=1\n",
    "    except:\n",
    "        fail_convert+=1\n",
    "t1 = time.time()\n",
    "\n",
    "total = t1-t0\n",
    "print('total time ={}'.format(total))"
   ]
  },
  {
   "cell_type": "code",
   "execution_count": 7,
   "id": "d65793c0",
   "metadata": {},
   "outputs": [
    {
     "data": {
      "text/plain": [
       "8.333333333333334"
      ]
     },
     "execution_count": 7,
     "metadata": {},
     "output_type": "execute_result"
    }
   ],
   "source": [
    "500/60"
   ]
  },
  {
   "cell_type": "code",
   "execution_count": 43,
   "id": "d60da701",
   "metadata": {},
   "outputs": [
    {
     "data": {
      "text/plain": [
       "2088"
      ]
     },
     "execution_count": 43,
     "metadata": {},
     "output_type": "execute_result"
    }
   ],
   "source": [
    "non_equal"
   ]
  },
  {
   "cell_type": "code",
   "execution_count": 41,
   "id": "05e6108d",
   "metadata": {},
   "outputs": [
    {
     "data": {
      "text/plain": [
       "162"
      ]
     },
     "execution_count": 41,
     "metadata": {},
     "output_type": "execute_result"
    }
   ],
   "source": [
    "fail_convert"
   ]
  }
 ],
 "metadata": {
  "kernelspec": {
   "display_name": "Python 3",
   "language": "python",
   "name": "python3"
  },
  "language_info": {
   "codemirror_mode": {
    "name": "ipython",
    "version": 3
   },
   "file_extension": ".py",
   "mimetype": "text/x-python",
   "name": "python",
   "nbconvert_exporter": "python",
   "pygments_lexer": "ipython3",
   "version": "3.6.12"
  }
 },
 "nbformat": 4,
 "nbformat_minor": 5
}
